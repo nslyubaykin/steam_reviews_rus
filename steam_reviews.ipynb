{
 "cells": [
  {
   "cell_type": "markdown",
   "metadata": {},
   "source": [
    "# Analyzing Steam reviews (Russian language) sentiment with Bi-LSTM"
   ]
  },
  {
   "cell_type": "code",
   "execution_count": 1,
   "metadata": {},
   "outputs": [],
   "source": [
    "import os\n",
    "import pandas as pd\n",
    "import matplotlib.pyplot as plt\n",
    "\n",
    "from collections import Counter\n",
    "from sklearn.model_selection import train_test_split\n",
    "from sklearn.metrics import confusion_matrix, roc_auc_score\n",
    "from steam_utils.sentiment_utils import *"
   ]
  },
  {
   "cell_type": "code",
   "execution_count": 3,
   "metadata": {},
   "outputs": [
    {
     "name": "stdout",
     "output_type": "stream",
     "text": [
      "steam_review_data_batch_53.csv, Total Comments Loaded: 17665, Batch Size: 17665\n",
      "steam_review_data_batch_10.csv, Total Comments Loaded: 48818, Batch Size: 31153\n",
      "steam_review_data_batch_27.csv, Total Comments Loaded: 78255, Batch Size: 29437\n",
      "steam_review_data_batch_15.csv, Total Comments Loaded: 86633, Batch Size: 8378\n",
      "steam_review_data_batch_17.csv, Total Comments Loaded: 101252, Batch Size: 14619\n",
      "steam_review_data_batch_23.csv, Total Comments Loaded: 104450, Batch Size: 3198\n",
      "steam_review_data_batch_3.csv, Total Comments Loaded: 107640, Batch Size: 3190\n",
      "steam_review_data_batch_49.csv, Total Comments Loaded: 121168, Batch Size: 13528\n",
      "steam_review_data_batch_7.csv, Total Comments Loaded: 135755, Batch Size: 14587\n",
      "steam_review_data_batch_19.csv, Total Comments Loaded: 162001, Batch Size: 26246\n",
      "steam_review_data_batch_12.csv, Total Comments Loaded: 204724, Batch Size: 42735\n",
      "steam_review_data_batch_47.csv, Total Comments Loaded: 213473, Batch Size: 8750\n",
      "steam_review_data_batch_52.csv, Total Comments Loaded: 323424, Batch Size: 109951\n",
      "steam_review_data_batch_4.csv, Total Comments Loaded: 350776, Batch Size: 27352\n",
      "steam_review_data_batch_40.csv, Total Comments Loaded: 396437, Batch Size: 45663\n",
      "steam_review_data_batch_11.csv, Total Comments Loaded: 438325, Batch Size: 41890\n",
      "steam_review_data_batch_38.csv, Total Comments Loaded: 522461, Batch Size: 84137\n",
      "steam_review_data_batch_34.csv, Total Comments Loaded: 532158, Batch Size: 9697\n",
      "steam_review_data_batch_48.csv, Total Comments Loaded: 543924, Batch Size: 11767\n",
      "steam_review_data_batch_41.csv, Total Comments Loaded: 606442, Batch Size: 62523\n",
      "steam_review_data_batch_28.csv, Total Comments Loaded: 626461, Batch Size: 20019\n",
      "steam_review_data_batch_6.csv, Total Comments Loaded: 660135, Batch Size: 33674\n",
      "steam_review_data_batch_20.csv, Total Comments Loaded: 678548, Batch Size: 18414\n",
      "steam_review_data_batch_24.csv, Total Comments Loaded: 700174, Batch Size: 21628\n",
      "steam_review_data_batch_25.csv, Total Comments Loaded: 725464, Batch Size: 25292\n",
      "steam_review_data_batch_9.csv, Total Comments Loaded: 730019, Batch Size: 4555\n",
      "steam_review_data_batch_14.csv, Total Comments Loaded: 760081, Batch Size: 30065\n",
      "steam_review_data_batch_18.csv, Total Comments Loaded: 764623, Batch Size: 4542\n",
      "steam_review_data_batch_39.csv, Total Comments Loaded: 798989, Batch Size: 34371\n",
      "steam_review_data_batch_45.csv, Total Comments Loaded: 830425, Batch Size: 31440\n",
      "steam_review_data_batch_33.csv, Total Comments Loaded: 833774, Batch Size: 3349\n",
      "steam_review_data_batch_43.csv, Total Comments Loaded: 885897, Batch Size: 52126\n",
      "steam_review_data_batch_21.csv, Total Comments Loaded: 914800, Batch Size: 28904\n",
      "steam_review_data_batch_13.csv, Total Comments Loaded: 960437, Batch Size: 45638\n",
      "steam_review_data_batch_46.csv, Total Comments Loaded: 975034, Batch Size: 14597\n",
      "steam_review_data_batch_1.csv, Total Comments Loaded: 1011080, Batch Size: 36046\n",
      "steam_review_data_batch_50.csv, Total Comments Loaded: 1027420, Batch Size: 16353\n",
      "steam_review_data_batch_0.csv, Total Comments Loaded: 1105600, Batch Size: 78180\n",
      "steam_review_data_batch_31.csv, Total Comments Loaded: 1121654, Batch Size: 16055\n",
      "steam_review_data_batch_37.csv, Total Comments Loaded: 1213836, Batch Size: 92187\n",
      "steam_review_data_batch_16.csv, Total Comments Loaded: 1221617, Batch Size: 7781\n",
      "steam_review_data_batch_44.csv, Total Comments Loaded: 1264418, Batch Size: 42812\n",
      "steam_review_data_batch_8.csv, Total Comments Loaded: 1295057, Batch Size: 30781\n",
      "steam_review_data_batch_5.csv, Total Comments Loaded: 1317850, Batch Size: 22794\n",
      "steam_review_data_batch_26.csv, Total Comments Loaded: 1349504, Batch Size: 31655\n",
      "steam_review_data_batch_36.csv, Total Comments Loaded: 1413426, Batch Size: 63923\n",
      "steam_review_data_batch_32.csv, Total Comments Loaded: 1417003, Batch Size: 3577\n",
      "steam_review_data_batch_42.csv, Total Comments Loaded: 1462391, Batch Size: 45440\n",
      "steam_review_data_batch_22.csv, Total Comments Loaded: 1479291, Batch Size: 16900\n",
      "steam_review_data_batch_35.csv, Total Comments Loaded: 1482661, Batch Size: 3371\n",
      "steam_review_data_batch_29.csv, Total Comments Loaded: 1490578, Batch Size: 7918\n",
      "steam_review_data_batch_30.csv, Total Comments Loaded: 1496420, Batch Size: 5842\n",
      "steam_review_data_batch_2.csv, Total Comments Loaded: 1525837, Batch Size: 29419\n",
      "steam_review_data_batch_51.csv, Total Comments Loaded: 1545980, Batch Size: 20146\n"
     ]
    }
   ],
   "source": [
    "# Reading data in a loop:\n",
    "\n",
    "data_dir = 'steam_sentiment_data'\n",
    "steam_data = pd.DataFrame()\n",
    "\n",
    "for filename in os.listdir(data_dir):\n",
    "    \n",
    "    tmp_data = pd.read_csv(f'{data_dir}/{filename}', sep=';', encoding='utf-8',\n",
    "                           index_col=[0])\n",
    "    \n",
    "    steam_data = steam_data.append(tmp_data)\n",
    "    \n",
    "    steam_data.drop_duplicates(inplace=True)\n",
    "    \n",
    "    print(f'{filename}, Total Comments Loaded: {steam_data.shape[0]}, Batch Size: {tmp_data.shape[0]}')\n",
    "    \n",
    "    del tmp_data\n",
    "    \n",
    "steam_data.reset_index(drop=True, inplace=True)"
   ]
  },
  {
   "cell_type": "markdown",
   "metadata": {},
   "source": [
    "# Initial text pre-processing:"
   ]
  },
  {
   "cell_type": "code",
   "execution_count": 4,
   "metadata": {},
   "outputs": [],
   "source": [
    "# Initial label and review cleaning\n",
    "steam_data = (steam_data\n",
    "              .assign(clean_label=lambda df: df.label.apply(lambda x: x.split('\\n')[0]),\n",
    "                      clean_review=lambda df: df.review.apply(clean_review)))"
   ]
  },
  {
   "cell_type": "code",
   "execution_count": 5,
   "metadata": {},
   "outputs": [],
   "source": [
    "# Base text cleaning:\n",
    "steam_data = (steam_data\n",
    "              .assign(clean_review=lambda df: df.clean_review.apply(clean_text)))"
   ]
  },
  {
   "cell_type": "code",
   "execution_count": 6,
   "metadata": {},
   "outputs": [
    {
     "data": {
      "text/plain": [
       "(1151361, 5)"
      ]
     },
     "execution_count": 6,
     "metadata": {},
     "output_type": "execute_result"
    }
   ],
   "source": [
    "# Filetring unrelevant reviews:\n",
    "steam_data = (steam_data\n",
    "              .assign(to_keep=lambda df: df.clean_review.apply(filter_reviews)))\n",
    "# Applying filter:\n",
    "steam_data = steam_data.query('to_keep > 0').drop(columns=['to_keep']).reset_index(drop=True)\n",
    "# Resulting shape:\n",
    "steam_data.shape"
   ]
  },
  {
   "cell_type": "code",
   "execution_count": 7,
   "metadata": {},
   "outputs": [
    {
     "data": {
      "text/plain": [
       "(1128236, 2)"
      ]
     },
     "execution_count": 7,
     "metadata": {},
     "output_type": "execute_result"
    }
   ],
   "source": [
    "# Constructing final text data:\n",
    "steam_data_final = (steam_data\n",
    "                    .assign(num_label=lambda df: df.clean_label.apply(to_num_y))\n",
    "                    .loc[:, ['num_label', 'clean_review']]\n",
    "                    .drop_duplicates()\n",
    "                    .sample(frac=1)\n",
    "                    .reset_index(drop=True))\n",
    "# Saving the data:\n",
    "# steam_data_final.to_csv('steam_data_final.csv', sep=';', encoding='utf-8')\n",
    "# Resulting shape:\n",
    "steam_data_final.shape"
   ]
  },
  {
   "cell_type": "code",
   "execution_count": null,
   "metadata": {},
   "outputs": [],
   "source": [
    "# Read file if needed:\n",
    "# steam_data_final = pd.read_csv('steam_data_final.csv', sep=';', encoding='utf-8', index_col=0)"
   ]
  },
  {
   "cell_type": "code",
   "execution_count": 13,
   "metadata": {},
   "outputs": [
    {
     "data": {
      "text/html": [
       "<div>\n",
       "<style scoped>\n",
       "    .dataframe tbody tr th:only-of-type {\n",
       "        vertical-align: middle;\n",
       "    }\n",
       "\n",
       "    .dataframe tbody tr th {\n",
       "        vertical-align: top;\n",
       "    }\n",
       "\n",
       "    .dataframe thead th {\n",
       "        text-align: right;\n",
       "    }\n",
       "</style>\n",
       "<table border=\"1\" class=\"dataframe\">\n",
       "  <thead>\n",
       "    <tr style=\"text-align: right;\">\n",
       "      <th></th>\n",
       "      <th>num_label</th>\n",
       "      <th>clean_review</th>\n",
       "    </tr>\n",
       "  </thead>\n",
       "  <tbody>\n",
       "    <tr>\n",
       "      <th>35581</th>\n",
       "      <td>0</td>\n",
       "      <td>запустил, настроил свое первое оружие и облик,...</td>\n",
       "    </tr>\n",
       "    <tr>\n",
       "      <th>738152</th>\n",
       "      <td>0</td>\n",
       "      <td>отвратительный кусок кода собранный разработчи...</td>\n",
       "    </tr>\n",
       "    <tr>\n",
       "      <th>416818</th>\n",
       "      <td>0</td>\n",
       "      <td>в этой заметке хотелось бы написать не о самих...</td>\n",
       "    </tr>\n",
       "    <tr>\n",
       "      <th>184199</th>\n",
       "      <td>0</td>\n",
       "      <td>у меня пишет что невозможно открыть что за брет</td>\n",
       "    </tr>\n",
       "    <tr>\n",
       "      <th>135930</th>\n",
       "      <td>1</td>\n",
       "      <td>необычная и интересная идея игры. однозначно за.</td>\n",
       "    </tr>\n",
       "    <tr>\n",
       "      <th>428042</th>\n",
       "      <td>1</td>\n",
       "      <td>очень увлекательная игра\\nза ч я побывал на оф...</td>\n",
       "    </tr>\n",
       "    <tr>\n",
       "      <th>714786</th>\n",
       "      <td>1</td>\n",
       "      <td>круто, брутально, фантастически, сложно.</td>\n",
       "    </tr>\n",
       "    <tr>\n",
       "      <th>4679</th>\n",
       "      <td>1</td>\n",
       "      <td>крайне трогательная история в необычно красиво...</td>\n",
       "    </tr>\n",
       "    <tr>\n",
       "      <th>196984</th>\n",
       "      <td>0</td>\n",
       "      <td>худшая игра, графика летней давности, натянули...</td>\n",
       "    </tr>\n",
       "    <tr>\n",
       "      <th>154261</th>\n",
       "      <td>1</td>\n",
       "      <td>ну у меня друзья не купили её, а так в шахматы...</td>\n",
       "    </tr>\n",
       "  </tbody>\n",
       "</table>\n",
       "</div>"
      ],
      "text/plain": [
       "        num_label                                       clean_review\n",
       "35581           0  запустил, настроил свое первое оружие и облик,...\n",
       "738152          0  отвратительный кусок кода собранный разработчи...\n",
       "416818          0  в этой заметке хотелось бы написать не о самих...\n",
       "184199          0    у меня пишет что невозможно открыть что за брет\n",
       "135930          1   необычная и интересная идея игры. однозначно за.\n",
       "428042          1  очень увлекательная игра\\nза ч я побывал на оф...\n",
       "714786          1           круто, брутально, фантастически, сложно.\n",
       "4679            1  крайне трогательная история в необычно красиво...\n",
       "196984          0  худшая игра, графика летней давности, натянули...\n",
       "154261          1  ну у меня друзья не купили её, а так в шахматы..."
      ]
     },
     "execution_count": 13,
     "metadata": {},
     "output_type": "execute_result"
    }
   ],
   "source": [
    "# Looking at some example rows:\n",
    "steam_data_final.sample(frac=1).head(10)"
   ]
  },
  {
   "cell_type": "markdown",
   "metadata": {},
   "source": [
    "# Small glimpse at the data:"
   ]
  },
  {
   "cell_type": "markdown",
   "metadata": {},
   "source": [
    "Here, by looking at training data, naive binary classification accuracy will be calculated as well as truncating length in tokens."
   ]
  },
  {
   "cell_type": "code",
   "execution_count": 8,
   "metadata": {},
   "outputs": [
    {
     "name": "stdout",
     "output_type": "stream",
     "text": [
      "Naive guess accuracy is 84.03596410680035%\n"
     ]
    }
   ],
   "source": [
    "# naive guess accuracy baseline:\n",
    "naive_guess = steam_data_final.num_label.sum() / steam_data_final.shape[0]\n",
    "print(f'Naive guess accuracy is {naive_guess*100}%')"
   ]
  },
  {
   "cell_type": "code",
   "execution_count": 9,
   "metadata": {},
   "outputs": [
    {
     "name": "stdout",
     "output_type": "stream",
     "text": [
      "Mean review length is 62.65271007129714\n"
     ]
    },
    {
     "data": {
      "text/plain": [
       "<matplotlib.axes._subplots.AxesSubplot at 0x7febe02a1e80>"
      ]
     },
     "execution_count": 9,
     "metadata": {},
     "output_type": "execute_result"
    },
    {
     "data": {
      "image/png": "[encoded data removed]",
      "text/plain": [
       "<Figure size 432x288 with 1 Axes>"
      ]
     },
     "metadata": {
      "needs_background": "light"
     },
     "output_type": "display_data"
    }
   ],
   "source": [
    "# Reviews length distribution\n",
    "rev_len = steam_data_final.clean_review.apply(text_length)\n",
    "print(f'Mean review length is {rev_len.mean()}')\n",
    "rev_len.hist(bins=100)"
   ]
  },
  {
   "cell_type": "code",
   "execution_count": 10,
   "metadata": {},
   "outputs": [
    {
     "name": "stdout",
     "output_type": "stream",
     "text": [
      "97.32130511701452 % of reviews are below 400 threshold\n"
     ]
    }
   ],
   "source": [
    "# testing truncate length:\n",
    "TRUNCATE_LEN = 400\n",
    "print(f'{sum(rev_len <= TRUNCATE_LEN) / len(rev_len) * 100} % of reviews are below {TRUNCATE_LEN} threshold')"
   ]
  },
  {
   "cell_type": "code",
   "execution_count": 33,
   "metadata": {},
   "outputs": [
    {
     "name": "stdout",
     "output_type": "stream",
     "text": [
      "atlas - ark: pirates. я говорю нет этой игре, не потому что здесь лаги и просто не понять что происходит на ранней версии. а потому что это не новая игра, а попросту мод на арк который хотят выдать как полноценно новый проект.\n",
      "убивая аргументы тех кто играл в арк и хочет приобрести данный шедевр:\n",
      ".) игру выпустила компания которая уже имеет бюджет и может сама без сбора средств выкатить нормальный проект\n",
      ".) они по просту не постарались что то менять, взяли то что есть и вуаля играйте.\n",
      ".) пишут что ммо, но ммо должно тебя тоже уметь развлекать, а не ты должен постоянно бегать и собирать ресурсы причем к как в арке. то есть это тот еще гемор.\n",
      ".) костомизация персонажей прекрасна, вы опять постарались арков из\n",
      "------------------\n",
      "Review sentiment is Negative\n",
      "Review length: 122\n"
     ]
    }
   ],
   "source": [
    "# Viewing sample random review:\n",
    "rand_ind = np.random.choice(range(steam_data_final.shape[0]), 1, replace=False)[0]\n",
    "sample_review = steam_data_final.clean_review[rand_ind]\n",
    "print(sample_review)\n",
    "sentiment_decode = {1: 'Positive', 0: 'Negative'}\n",
    "print('------------------')\n",
    "print('Review sentiment is {}'.format(sentiment_decode[steam_data_final.num_label[rand_ind]]))\n",
    "print('Review length: {}'.format(len(sample_review.split(' '))))"
   ]
  },
  {
   "cell_type": "markdown",
   "metadata": {},
   "source": [
    "# Text tokenization:"
   ]
  },
  {
   "cell_type": "markdown",
   "metadata": {},
   "source": [
    "For converting text to tokens BPE tokenizer was used. Among the advantages of such tokenization technique are:\n",
    "1. Speed (much faster than lemmatization for example)\n",
    "2. Possibility to model and account for morphology\n",
    "3. No need for OOV token"
   ]
  },
  {
   "cell_type": "code",
   "execution_count": 12,
   "metadata": {},
   "outputs": [],
   "source": [
    "# Preparing training data for tokenizer:\n",
    "train_data_path = \"train_data.txt\"\n",
    "with open(train_data_path, \"w\", encoding='utf-8') as fout:\n",
    "    for rev in range(steam_data_final.shape[0]):\n",
    "        print(steam_data_final.clean_review[rev], end='\\n', file=fout)"
   ]
  },
  {
   "cell_type": "code",
   "execution_count": 37,
   "metadata": {},
   "outputs": [],
   "source": [
    "# Training tokenizer:\n",
    "VOCAB_SHAPE = 7500\n",
    "model_path = \"russian_steam_review_model/steam_tokenizer.model\"\n",
    "# yttm.BPE.train(data=train_data_path, vocab_size=VOCAB_SHAPE, model=model_path)"
   ]
  },
  {
   "cell_type": "code",
   "execution_count": 38,
   "metadata": {},
   "outputs": [],
   "source": [
    "# Loading the model\n",
    "steam_bpe = yttm.BPE(model=model_path)"
   ]
  },
  {
   "cell_type": "code",
   "execution_count": 39,
   "metadata": {},
   "outputs": [
    {
     "name": "stdout",
     "output_type": "stream",
     "text": [
      "7500\n",
      "щер ▁соответственно ▁da ▁фишка вок, ly ▁подобра кера джет ▁хрень ▁приходит ▁преми ▁лагер ▁a. ▁шах ▁бру ▁заключается нию, кви ▁очков ▁сомне ▁зом нейшая ▁высоте. шему ▁восхити ▁имхо ▁vr ▁теку ▁скины ▁будет, ▁новел ▁рейтинг ▁вариант игры ▁фору ▁разда чкой ▁наблюдать ▁приобрет ▁нашёл ▁лучшие ▁edition ▁перепрой ▁трени ▁преле ▁доку ▁плюс, ▁чувства ▁тюрь ▁достойна лу. нику ▁внезапно бежать ▁проник ▁существует ▁поддержка ▁убей ▁твоего ▁подобные ▁юбисо ▁con нулся ▁имени ▁улучши мон ▁идите ▁желаю лки, вающие ▁запускается ▁солдат ёрт ▁муж ▁история. ▁кастомизация ▁мяс прин ▁arkham ▁мультиплеер, ▁), гой ▁htt ▁симпати кля ▁спасибо, ▁себе. тии ▁что? ▁shad -с зировать ▁головой ▁подоби ▁аф ▁проя ▁миссию ▁во-вторы ▁будьте ▁дарк нность ▁вру ▁минусов: ▁напомни ▁локаций, лом. ▁скачал ▁персонажи. ▁заслужи щет ▁команде ▁редактор ▁производи '' ▁проси ▁однообрази ▁сплош ▁тупа лое ▁сдох ▁получше чек, ann ▁dlc, то, ▁государ емый ▁отобра ▁самолё ▁заставит жка ▁большого ▁форма ▁участ ▁заб ▁библиоте ▁линия ▁субъек ▁тупые ▁атаки ▁доп. ▁слабый ▁прохождению ▁наверно ▁бежать ▁русских ep ▁отлично. ▁вед няет ▁просмотров: ▁собственно, ▁взрос ья, ▁апте ▁интересная. кста ▁прише ▁гта ▁месте, ▁дожд мого мас ▁локации. ▁декора ▁крутые ice ▁сезон ▁модели ▁заинтере ▁полного ▁исправля ▁ужасно ▁ачивки кие, ▁возро ▁получаем ▁коп ▁мяг ▁сложнее ▁-, ▁sk ▁долго, ▁разработчики, ▁может, ▁останется ▁невозможно. ▁разработчиков. -ко ▁получился ▁лобби ▁загрузки су, ▁монстра стран ▁%. ▁вывод: ▁зайдет чками ▁прочего ▁а, ▁оптимизацией ▁ца ▁встрети ▁буду, ▁веселая спект ▁разработчиков, ▁атаку ▁ощущается ▁этого, ▁говорил ▁фла ▁вылета гада пы, ▁связи ▁сго ▁-й ▁речь мера ▁вобщем ▁оказался ▁тему лено ▁саундтрек, ▁точку se ▁кано ▁энерги ▁происходят ▁шикарный ▁экспери ▁rock ▁сби ▁диалоги, ▁красивая, ▁стари ▁хэ ▁напо вают, ▁пафо ▁копа цеп ▁становятся стом ▁способа ▁шку ▁ведьмака ▁разрабам ▁душо носить ▁вам, ▁тен ▁(для ▁warf ▁уз ▁достойная ▁предупре ▁выживал ▁человека, ▁приобрести ▁регуляр ▁сэм ▁видел. ror ▁прием ▁разрабов ▁кап нхро канс ▁боёвка ▁тысячи ▁уде ▁затянет ▁очень. туально нё ip ▁меняется ▁xd тельности груз ых льщи лого ▁багов. лен, ▁трё ▁покупке. ▁писал ick рить, ▁интернет ▁исправят планет ▁диз ▁проше ▁поси ▁приятные ▁смотре ▁lo тыми ▁десяти ▁присо ▁залип ▁лица, eld ▁бета ▁зрелищ ▁графикой, тельная, ▁лвл к! ▁существу ▁rem ▁видишь ▁терра ▁загадки ▁улучша ▁преврати ▁часа. ▁запо еш ▁экипиров ▁мире, ▁толком более ▁нехва ▁дау ▁локализация ▁пойме ▁качать ▁приди гри плэ ▁забудь onor ▁составляющей ▁ней. ▁выска ▁его. ▁игру? вшей ▁бег нировать товой ▁пам ба, ▁уверен ounter ▁< ▁набо ▁их, ▁дай ▁момент. бежа ▁ё ▁ошиба y. ▁сохрани ▁плати ▁ii ▁тени ▁увлекательная ▁запро нуть, ▁располо ▁конкретно ▁перехо ▁долгие ▁tom ▁разбро ▁красивой ▁исследования ▁изучать ▁оставить ▁ума ▁игроками ▁убежи ▁добавят ▁дополнительных ▁узнал гую кость ▁команди ▁telltale ▁нарисова вал. ▁ночью ▁доспе ▁написал ▁допусти ▁тоже. ator ▁визуальный рт ▁лице ▁скучно, ▁считать ▁расстоя ▁дура ▁хотя, ▁сне ▁уровней, ▁ока ks чена ▁нов ▁windows ▁надоедает. ▁факту wn ▁миру лег ган пред ▁фанаты ▁зв ▁инвентарь ▁фильма ▁уверенно ▁ваще ▁долго. ▁делал ▁мелких ко. ▁иск ▁co кнов ▁пропуска int ▁помни ▁рекомендуется ▁шутеров ▁прибы -мене теть ▁:( ▁лагов ▁случае, гейм ▁образо ▁руках ▁сож ▁нат ▁меча ▁настоятельно ▁прочих ▁последняя кает ▁поря ▁нетерпением года ▁выполнить ▁подход ▁угодно летает ▁потенциал ▁команду ▁году. (о ider ▁маль ▁глупы ▁бежи ▁вниз ▁райо ▁отпуска ▁карте, ▁незабы ▁карты. ▁противник ▁десятки шений ▁проч ▁эли ▁почему? ▁полицей -) ▁топор ▁остров стал ▁список ▁возник дным ▁базо ▁р. ▁квадра ▁квестов, ▁миниму рено ▁медве ▁выжить ▁твоя рая, ▁репли еться ▁моду\n"
     ]
    }
   ],
   "source": [
    "# Looking at the vocabulary:\n",
    "print(len(steam_bpe.vocab()))\n",
    "print(*steam_bpe.vocab()[-500:])"
   ]
  },
  {
   "cell_type": "code",
   "execution_count": 40,
   "metadata": {},
   "outputs": [
    {
     "name": "stdout",
     "output_type": "stream",
     "text": [
      "[4, 1369, 53, 1446, 601, 5512, 52, 1000, 3645, 1369, 1216, 28, 611, 5993, 800, 906, 2008, 543, 1275, 588, 1100, 6848, 527, 721, 543, 3526, 588, 3077, 549, 1507, 1061, 1731, 1933, 583, 1275, 588, 591, 543, 3800, 1044, 583, 6450, 5280, 549, 1192, 15, 1054, 4783, 603, 1463, 642, 2796, 36, 786, 2392, 1776, 1097, 974, 904, 1192, 922, 6933, 1219, 1005, 1401, 529, 1192, 15, 527, 3328, 7262, 2257, 2759, 52, 720, 42, 693, 4265, 562, 5092, 1328, 857, 2333, 6511, 7008, 527, 977, 1370, 933, 530, 4930, 6806, 603, 557, 1528, 5328, 3512, 720, 42, 909, 539, 569, 1011, 543, 4133, 1056, 588, 585, 811, 792, 2473, 548, 585, 588, 738, 527, 6962, 7, 599, 3228, 28, 720, 42, 5918, 588, 4273, 24, 587, 4273, 3498, 1178, 1170, 2721, 538, 621, 1879, 792, 583, 543, 807, 2676, 1886, 4018, 527, 4753, 5805, 3569, 534, 642, 529, 1192, 1904, 585, 738, 591, 1642, 892, 594, 1638, 1780, 720, 42, 568, 617, 3808, 973, 1988, 1429, 1386, 603, 2387, 4133, 1056, 1192, 770, 631]\n",
      "['▁', 'at', 'l', 'as', '▁-', '▁ark', ':', '▁p', 'ir', 'at', 'es', '.', '▁я', '▁говорю', '▁нет', '▁этой', '▁игре,', '▁не', '▁потому', '▁что', '▁здесь', '▁лаги', '▁и', '▁просто', '▁не', '▁понять', '▁что', '▁происходит', '▁на', '▁ран', 'ней', '▁верси', 'и.', '▁а', '▁потому', '▁что', '▁это', '▁не', '▁новая', '▁игра,', '▁а', '▁попросту', '▁мод', '▁на', '▁ар', 'к', '▁который', '▁хотят', '▁вы', 'дать', '▁как', '▁полно', 'ц', 'енно', '▁новый', '▁проек', 'т.', '▁уби', 'вая', '▁ар', 'гу', 'менты', '▁тех', '▁кто', '▁играл', '▁в', '▁ар', 'к', '▁и', '▁хочет', '▁приобрести', '▁данный', '▁шедевр', ':', '▁.', ')', '▁игру', '▁выпусти', 'ла', '▁компания', '▁которая', '▁уже', '▁имеет', '▁бю', 'джет', '▁и', '▁может', '▁сама', '▁без', '▁с', 'бора', '▁средств', '▁вы', 'ка', 'тить', '▁нормальный', '▁проект', '▁.', ')', '▁они', '▁по', '▁про', 'сту', '▁не', '▁постара', 'лись', '▁что', '▁то', '▁меня', 'ть,', '▁взя', 'ли', '▁то', '▁что', '▁есть', '▁и', '▁ву', 'а', 'ля', '▁играйте', '.', '▁.', ')', '▁пишут', '▁что', '▁ммо', ',', '▁но', '▁ммо', '▁должно', '▁тебя', '▁тоже', '▁уме', 'ть', '▁раз', 'влека', 'ть,', '▁а', '▁не', '▁ты', '▁должен', '▁постоянно', '▁бегать', '▁и', '▁собирать', '▁ресурсы', '▁причем', '▁к', '▁как', '▁в', '▁ар', 'ке.', '▁то', '▁есть', '▁это', '▁тот', '▁еще', '▁г', 'емо', 'р.', '▁.', ')', '▁ко', 'сто', 'миза', 'ция', '▁персонажей', '▁прекрас', 'на,', '▁вы', '▁опять', '▁постара', 'лись', '▁ар', 'ков', '▁из']\n"
     ]
    }
   ],
   "source": [
    "# Tokenise sample review:\n",
    "print(steam_bpe.encode(sample_review, output_type=yttm.OutputType.ID))\n",
    "print(steam_bpe.encode(sample_review, output_type=yttm.OutputType.SUBWORD))"
   ]
  },
  {
   "cell_type": "markdown",
   "metadata": {},
   "source": [
    "# Data numerification:"
   ]
  },
  {
   "cell_type": "code",
   "execution_count": 23,
   "metadata": {},
   "outputs": [
    {
     "data": {
      "text/plain": [
       "1128236"
      ]
     },
     "execution_count": 23,
     "metadata": {},
     "output_type": "execute_result"
    }
   ],
   "source": [
    "# converting to number tokens with tokenizer:\n",
    "list_num_tokens = steam_bpe.encode(steam_data_final.clean_review.to_list(), output_type=yttm.OutputType.ID)\n",
    "len(list_num_tokens)"
   ]
  },
  {
   "cell_type": "code",
   "execution_count": 24,
   "metadata": {},
   "outputs": [],
   "source": [
    "# padding & truncating sequences\n",
    "PAD = 'post'\n",
    "TRUNCATE = 'post'\n",
    "X_steam = tf.keras.preprocessing.sequence.pad_sequences(list_num_tokens, maxlen=TRUNCATE_LEN, \n",
    "                                                        padding=PAD, truncating=TRUNCATE)\n",
    "y_steam = np.array(steam_data_final.num_label.to_list())"
   ]
  },
  {
   "cell_type": "code",
   "execution_count": 25,
   "metadata": {},
   "outputs": [
    {
     "data": {
      "text/plain": [
       "((1128236, 400), (1128236,))"
      ]
     },
     "execution_count": 25,
     "metadata": {},
     "output_type": "execute_result"
    }
   ],
   "source": [
    "X_steam.shape, y_steam.shape"
   ]
  },
  {
   "cell_type": "code",
   "execution_count": 26,
   "metadata": {},
   "outputs": [],
   "source": [
    "# Split into train, val and test:\n",
    "X_train, X_test, y_train, y_test = train_test_split(X_steam, y_steam, test_size=50000/X_steam.shape[0], random_state=1,\n",
    "                                                    stratify=y_steam)\n",
    "\n",
    "X_train, X_val, y_train, y_val = train_test_split(X_train, y_train, test_size=50000/X_train.shape[0], random_state=1,\n",
    "                                                  stratify=y_train) "
   ]
  },
  {
   "cell_type": "code",
   "execution_count": 27,
   "metadata": {},
   "outputs": [
    {
     "name": "stdout",
     "output_type": "stream",
     "text": [
      "Train X shape: (1028236, 400)\n",
      "Validation X shape: (50000, 400)\n",
      "Test X shape: (50000, 400)\n",
      "\n",
      "Train y shape: (1028236,)\n",
      "Validation y shape: (50000,)\n",
      "Test y shape: (50000,)\n",
      "\n",
      "Train naive acc: 0.8403596061604535\n",
      "Validation naive acc: 0.84036\n",
      "Test naive acc: 0.84036\n"
     ]
    }
   ],
   "source": [
    "# Looking at the data stats:\n",
    "print(f'Train X shape: {X_train.shape}', \n",
    "      f'Validation X shape: {X_val.shape}', \n",
    "      f'Test X shape: {X_test.shape}', sep='\\n', end='\\n\\n')\n",
    "\n",
    "print(f'Train y shape: {y_train.shape}', \n",
    "      f'Validation y shape: {y_val.shape}', \n",
    "      f'Test y shape: {y_test.shape}', sep='\\n', end='\\n\\n')\n",
    "\n",
    "print(f'Train naive acc: {y_train.sum() / len(y_train)}', \n",
    "      f'Validation naive acc: {y_val.sum() / len(y_val)}', \n",
    "      f'Test naive acc: {y_test.sum() / len(y_test)}', sep='\\n')"
   ]
  },
  {
   "cell_type": "code",
   "execution_count": 28,
   "metadata": {},
   "outputs": [],
   "source": [
    "# Converting to TF data:\n",
    "train_dataset = tf.data.Dataset.from_tensor_slices((X_train, y_train))\n",
    "val_dataset = tf.data.Dataset.from_tensor_slices((X_val, y_val))\n",
    "test_dataset = tf.data.Dataset.from_tensor_slices((X_test, y_test))\n",
    "\n",
    "BATCH_SIZE = 1024\n",
    "SHUFFLE_BUFFER_SIZE = 4098\n",
    "\n",
    "train_dataset = train_dataset.shuffle(SHUFFLE_BUFFER_SIZE).batch(BATCH_SIZE)\n",
    "val_dataset = val_dataset.shuffle(SHUFFLE_BUFFER_SIZE).batch(BATCH_SIZE)\n",
    "test_dataset = test_dataset.shuffle(SHUFFLE_BUFFER_SIZE).batch(BATCH_SIZE)"
   ]
  },
  {
   "cell_type": "markdown",
   "metadata": {},
   "source": [
    "# Specifying model:"
   ]
  },
  {
   "cell_type": "markdown",
   "metadata": {},
   "source": [
    "For text classification bidirectional LSTM many to one architecture is used. Before passing to LSTM layer tokens are embedded, after LSTM layer dimensionality is reduced with global max pooling."
   ]
  },
  {
   "cell_type": "code",
   "execution_count": 29,
   "metadata": {},
   "outputs": [],
   "source": [
    "# bulding LSTM many to one model:\n",
    "EMBED_SIZE = 128 #128\n",
    "def create_rsr_net():\n",
    "    model = tf.keras.models.Sequential([\n",
    "        tf.keras.layers.Input([TRUNCATE_LEN]),\n",
    "        tf.keras.layers.Embedding(VOCAB_SHAPE, EMBED_SIZE),\n",
    "        tf.keras.layers.Bidirectional(tf.keras.layers.LSTM(units=128, return_sequences=True)), #128\n",
    "        tf.keras.layers.GlobalMaxPool1D(),\n",
    "        tf.keras.layers.Dense(128, activation='relu'), # 128\n",
    "        tf.keras.layers.Dropout(0.2),\n",
    "        tf.keras.layers.Dense(1, activation='sigmoid')\n",
    "    ])\n",
    "    return model"
   ]
  },
  {
   "cell_type": "code",
   "execution_count": 30,
   "metadata": {},
   "outputs": [
    {
     "name": "stdout",
     "output_type": "stream",
     "text": [
      "Model: \"sequential\"\n",
      "_________________________________________________________________\n",
      "Layer (type)                 Output Shape              Param #   \n",
      "=================================================================\n",
      "embedding (Embedding)        (None, 400, 128)          960000    \n",
      "_________________________________________________________________\n",
      "bidirectional (Bidirectional (None, 400, 256)          263168    \n",
      "_________________________________________________________________\n",
      "global_max_pooling1d (Global (None, 256)               0         \n",
      "_________________________________________________________________\n",
      "dense (Dense)                (None, 128)               32896     \n",
      "_________________________________________________________________\n",
      "dropout (Dropout)            (None, 128)               0         \n",
      "_________________________________________________________________\n",
      "dense_1 (Dense)              (None, 1)                 129       \n",
      "=================================================================\n",
      "Total params: 1,256,193\n",
      "Trainable params: 1,256,193\n",
      "Non-trainable params: 0\n",
      "_________________________________________________________________\n"
     ]
    }
   ],
   "source": [
    "RSRNet = create_rsr_net()\n",
    "RSRNet.summary()"
   ]
  },
  {
   "cell_type": "code",
   "execution_count": 31,
   "metadata": {},
   "outputs": [],
   "source": [
    "# Create checkpoints:\n",
    "cp_callback = tf.keras.callbacks.ModelCheckpoint(filepath=\"rsr_test/rsr_test_ckpt\",\n",
    "                                                 save_weights_only=True,\n",
    "                                                 verbose=1)\n",
    "# Compile the model:\n",
    "RSRNet.compile(optimizer=tf.keras.optimizers.Adam(),\n",
    "               loss=tf.keras.losses.BinaryCrossentropy(),\n",
    "               metrics=[tf.keras.metrics.BinaryAccuracy(),\n",
    "                        tf.keras.metrics.AUC(curve='ROC', name='auc_roc'),\n",
    "                        tf.keras.metrics.AUC(curve='PR', name='auc_prc')])"
   ]
  },
  {
   "cell_type": "code",
   "execution_count": 32,
   "metadata": {},
   "outputs": [],
   "source": [
    "# Setting the device:\n",
    "device = '/device:GPU:0'"
   ]
  },
  {
   "cell_type": "code",
   "execution_count": 33,
   "metadata": {},
   "outputs": [
    {
     "name": "stdout",
     "output_type": "stream",
     "text": [
      "Epoch 1/3\n",
      "1005/1005 [==============================] - ETA: 0s - loss: 0.2364 - binary_accuracy: 0.9044 - auc_roc: 0.9239 - auc_prc: 0.9831\n",
      "Epoch 00001: saving model to rsr_test_ckpt\n",
      "1005/1005 [==============================] - 454s 451ms/step - loss: 0.2364 - binary_accuracy: 0.9044 - auc_roc: 0.9239 - auc_prc: 0.9831 - val_loss: 0.1980 - val_binary_accuracy: 0.9196 - val_auc_roc: 0.9508 - val_auc_prc: 0.9893\n",
      "Epoch 2/3\n",
      "1005/1005 [==============================] - ETA: 0s - loss: 0.1882 - binary_accuracy: 0.9246 - auc_roc: 0.9537 - auc_prc: 0.9898\n",
      "Epoch 00002: saving model to rsr_test_ckpt\n",
      "1005/1005 [==============================] - 452s 450ms/step - loss: 0.1882 - binary_accuracy: 0.9246 - auc_roc: 0.9537 - auc_prc: 0.9898 - val_loss: 0.1892 - val_binary_accuracy: 0.9255 - val_auc_roc: 0.9539 - val_auc_prc: 0.9895\n",
      "Epoch 3/3\n",
      "1005/1005 [==============================] - ETA: 0s - loss: 0.1723 - binary_accuracy: 0.9315 - auc_roc: 0.9616 - auc_prc: 0.9915\n",
      "Epoch 00003: saving model to rsr_test_ckpt\n",
      "1005/1005 [==============================] - 451s 449ms/step - loss: 0.1723 - binary_accuracy: 0.9315 - auc_roc: 0.9616 - auc_prc: 0.9915 - val_loss: 0.1870 - val_binary_accuracy: 0.9257 - val_auc_roc: 0.9541 - val_auc_prc: 0.9895\n"
     ]
    }
   ],
   "source": [
    "# Training the model:\n",
    "with tf.device(device):\n",
    "    history = RSRNet.fit(train_dataset, epochs=3, validation_data=val_dataset, callbacks=[cp_callback])"
   ]
  },
  {
   "cell_type": "markdown",
   "metadata": {},
   "source": [
    "# Evaluating the quality on test dataset:"
   ]
  },
  {
   "cell_type": "code",
   "execution_count": 34,
   "metadata": {},
   "outputs": [
    {
     "name": "stdout",
     "output_type": "stream",
     "text": [
      "49/49 [==============================] - 7s 141ms/step - loss: 0.1912 - binary_accuracy: 0.9240 - auc_roc: 0.9519 - auc_prc: 0.9891\n"
     ]
    }
   ],
   "source": [
    "# Evaluating the model on test dataset:\n",
    "test_evaluate = RSRNet.evaluate(test_dataset)"
   ]
  },
  {
   "cell_type": "code",
   "execution_count": 35,
   "metadata": {},
   "outputs": [
    {
     "name": "stdout",
     "output_type": "stream",
     "text": [
      "Accuracy is: 0.92398\n",
      "AUC ROC is : 0.9527559071669646\n"
     ]
    }
   ],
   "source": [
    "# Plot error table:\n",
    "y_test_fit = RSRNet_predict(RSRNet, X_test, batch_size=1024)\n",
    "y_test_fit_disc = (y_test_fit > 0.5).astype('int32').reshape(-1)\n",
    "print('Accuracy is: {}'.format((y_test_fit_disc == y_test).sum() / len(y_test)))\n",
    "print('AUC ROC is : {}'.format(roc_auc_score(y_test, y_test_fit)))"
   ]
  },
  {
   "cell_type": "code",
   "execution_count": 36,
   "metadata": {},
   "outputs": [
    {
     "data": {
      "text/plain": [
       "array([[ 5482,  2500],\n",
       "       [ 1301, 40717]])"
      ]
     },
     "execution_count": 36,
     "metadata": {},
     "output_type": "execute_result"
    }
   ],
   "source": [
    "# Error Matrix:\n",
    "confusion_matrix(y_test, y_test_fit_disc)"
   ]
  },
  {
   "cell_type": "markdown",
   "metadata": {},
   "source": [
    "# Refit on the entire data:"
   ]
  },
  {
   "cell_type": "code",
   "execution_count": 37,
   "metadata": {},
   "outputs": [],
   "source": [
    "# Converting to TF data:\n",
    "steam_dataset = tf.data.Dataset.from_tensor_slices((X_steam, y_steam))\n",
    "\n",
    "BATCH_SIZE = 1024\n",
    "SHUFFLE_BUFFER_SIZE = 4098\n",
    "\n",
    "steam_dataset = steam_dataset.shuffle(SHUFFLE_BUFFER_SIZE).batch(BATCH_SIZE)"
   ]
  },
  {
   "cell_type": "code",
   "execution_count": 38,
   "metadata": {},
   "outputs": [],
   "source": [
    "RSRNet = create_rsr_net()"
   ]
  },
  {
   "cell_type": "code",
   "execution_count": 39,
   "metadata": {},
   "outputs": [],
   "source": [
    "# Compile the model:\n",
    "RSRNet.compile(optimizer=tf.keras.optimizers.Adam(),\n",
    "               loss=tf.keras.losses.BinaryCrossentropy(),\n",
    "               metrics=[tf.keras.metrics.BinaryAccuracy(),\n",
    "                        tf.keras.metrics.AUC(curve='ROC', name='auc_roc'),\n",
    "                        tf.keras.metrics.AUC(curve='PR', name='auc_prc')])"
   ]
  },
  {
   "cell_type": "code",
   "execution_count": 40,
   "metadata": {},
   "outputs": [
    {
     "name": "stdout",
     "output_type": "stream",
     "text": [
      "Epoch 1/3\n",
      "1102/1102 [==============================] - 489s 444ms/step - loss: 0.2347 - binary_accuracy: 0.9052 - auc_roc: 0.9251 - auc_prc: 0.9834\n",
      "Epoch 2/3\n",
      "1102/1102 [==============================] - 488s 443ms/step - loss: 0.1871 - binary_accuracy: 0.9252 - auc_roc: 0.9543 - auc_prc: 0.9899\n",
      "Epoch 3/3\n",
      "1102/1102 [==============================] - 488s 443ms/step - loss: 0.1716 - binary_accuracy: 0.9317 - auc_roc: 0.9618 - auc_prc: 0.9916\n"
     ]
    }
   ],
   "source": [
    "# Training the model:\n",
    "with tf.device(device):\n",
    "    history = RSRNet.fit(steam_dataset, epochs=3)"
   ]
  },
  {
   "cell_type": "code",
   "execution_count": 41,
   "metadata": {},
   "outputs": [],
   "source": [
    "# Saving the model:\n",
    "# saving model to file:\n",
    "RSRNet.save('RSRNet.h5')"
   ]
  },
  {
   "cell_type": "markdown",
   "metadata": {},
   "source": [
    "# Playing with fit:"
   ]
  },
  {
   "cell_type": "code",
   "execution_count": 9,
   "metadata": {},
   "outputs": [],
   "source": [
    "import pandas as pd\n",
    "from steam_utils.sentiment_utils import *"
   ]
  },
  {
   "cell_type": "code",
   "execution_count": 10,
   "metadata": {},
   "outputs": [],
   "source": [
    "# Loading model:\n",
    "RSRNet = tf.keras.models.load_model('russian_steam_review_model/RSRNet.h5')\n",
    "# Loading tokenizer:\n",
    "steam_bpe = yttm.BPE(model='russian_steam_review_model/steam_tokenizer.model')\n",
    "# Define scorer:\n",
    "steam_scorer = ScoreReview(tokenizer=steam_bpe, score_net=RSRNet,\n",
    "                           pad='post', truncate='post', truncate_len=400)"
   ]
  },
  {
   "cell_type": "code",
   "execution_count": 14,
   "metadata": {},
   "outputs": [],
   "source": [
    "sample_texts = ['Удалил спустя пару часов. Это просто невыносимо',\n",
    "                'Эта игра настоящий шедевр! Она взорвала мои моооозгииии',\n",
    "                'Одни баги, игра постоянно вылетает',\n",
    "                'Захватывающий сюжет и интересный геймплей',\n",
    "                'Отлично, если не играть',\n",
    "                'Графон мыльный, куча доната и микротранзакций',\n",
    "                'Динамичная боевка, наполненный открытый мир',\n",
    "                'Зависает в главном меню',\n",
    "                'Мой компьютер не потянет эту игру',\n",
    "                'Вернул деньги',\n",
    "                'Кидаю деньги в монитор',\n",
    "                'В игре много минусов и их перечисление займет гораздо больше времени чем я наиграл в нее, благо самый главный минус встречает игрока на первых 3мин. - в игре за 435-500 нельзя поменять управление. Своих денег не стоит.P.S. Я прекрасно понимаю, что это игра от инди разрабов, но это не оправдание для такой кучи ошибок со стороны тех. и дизайнерской частей',\n",
    "                'Для меня серия Ghost Recon закончилась на Tom Clancy’s Ghost Recon: Future Soldier, дальше же пошёл какой то шлак',\n",
    "                'Не работают сервера',\n",
    "                '1:54 меня этим и подкупила, что все смешали, мне вкатило.',\n",
    "                'Юбисофт опять обманули, ничего удивительного.',\n",
    "                'Если честно не советую вам покупать, графика хорошая, движок тоже норм, но баги не перечислить!',\n",
    "                'Я, уже 6 числа купил долгая игруля и норм игра но баги есть !)',\n",
    "                'Игра понравилась. Тот случай, когда обзоры неверное впечатление об игре передают. Игру бы слегка отбалансить, чтоб стелс по идиотски  не ломать временами.',\n",
    "                'Бета была многообещающей, но в финальную версию всё так же тяжело играть. Для динамики данной игры одна смерть (после которой ты возвращаешься к истокам) - наказание, а не вызов. Потому что прохождение занимает очень длительное время. Медленный бег по коридорам, отсутствие быстрых перемещений, очень долгий подъем по лестницам, перекаты по столам и т.д. (Кто-то уже писал, что перечисление минусов займет больше времени, чем я наиграл) Да крутой жанр, крутой стиль, ничего не испортится ускорением игрового процесса, это ведь рогалик.Спасибо за огромную скидку для бета-тестеров, вряд ли я когда-нибудь запущу эту игру снова.И крайне не советую покупать игру (а уж тем более DLC) за заявленные деньги. Только по скидке или бесплатно (пока что).Я обязательно изменю свой отзыв, когда увижу обновление хотя бы по перемещению.',\n",
    "                'Зря потратил время на эту игру',\n",
    "                'Судя по трейлерам, крутой блокбастер, но геймплей однообразный',\n",
    "                'Офигеть, какая игра',\n",
    "                'Ну что это за игра',\n",
    "                'Чудесная и великолепная графика, красивые закаты, интересная механика игры на гитаре, но слишком скучное и монотонное развитие сюжета, это портит все впечатление, скучно.',\n",
    "                'Видно в комментах люди уже не верят в игру. Оно и не удивительно, ведь столько обманов от юбисофт. Но я лично, верю что игра будет достойной',\n",
    "                'Скорее бы уже вышла! После цусими не во что играть(( ну разве что ремейк мафии, но там часов на 20 максимум, а здесь залипнуть хоть можно и погрузиться))',\n",
    "                'Мда. Викинги никак не могут быть в списках ассасинов. Это вообще никак не вписывается. От ассасинов осталось только название, прежде всего ассасины это утончëнные и бесшумные убийцы, а не это дерьмо. Было бы лучше если бы эта игра называлась просто вальгала но никак не ассасин...'] # actual Youtube"
   ]
  },
  {
   "cell_type": "code",
   "execution_count": 15,
   "metadata": {},
   "outputs": [],
   "source": [
    "score, label, sentiment = steam_scorer.predict(sample_texts)"
   ]
  },
  {
   "cell_type": "code",
   "execution_count": 16,
   "metadata": {},
   "outputs": [
    {
     "data": {
      "text/html": [
       "<div>\n",
       "<style scoped>\n",
       "    .dataframe tbody tr th:only-of-type {\n",
       "        vertical-align: middle;\n",
       "    }\n",
       "\n",
       "    .dataframe tbody tr th {\n",
       "        vertical-align: top;\n",
       "    }\n",
       "\n",
       "    .dataframe thead th {\n",
       "        text-align: right;\n",
       "    }\n",
       "</style>\n",
       "<table border=\"1\" class=\"dataframe\">\n",
       "  <thead>\n",
       "    <tr style=\"text-align: right;\">\n",
       "      <th></th>\n",
       "      <th>sample_review</th>\n",
       "      <th>score</th>\n",
       "      <th>label</th>\n",
       "      <th>sentiment</th>\n",
       "    </tr>\n",
       "  </thead>\n",
       "  <tbody>\n",
       "    <tr>\n",
       "      <th>0</th>\n",
       "      <td>Удалил спустя пару часов. Это просто невыносимо</td>\n",
       "      <td>0.311001</td>\n",
       "      <td>0</td>\n",
       "      <td>Negative</td>\n",
       "    </tr>\n",
       "    <tr>\n",
       "      <th>1</th>\n",
       "      <td>Эта игра настоящий шедевр! Она взорвала мои мо...</td>\n",
       "      <td>0.995141</td>\n",
       "      <td>1</td>\n",
       "      <td>Positive</td>\n",
       "    </tr>\n",
       "    <tr>\n",
       "      <th>2</th>\n",
       "      <td>Одни баги, игра постоянно вылетает</td>\n",
       "      <td>0.061664</td>\n",
       "      <td>0</td>\n",
       "      <td>Negative</td>\n",
       "    </tr>\n",
       "    <tr>\n",
       "      <th>3</th>\n",
       "      <td>Захватывающий сюжет и интересный геймплей</td>\n",
       "      <td>0.997844</td>\n",
       "      <td>1</td>\n",
       "      <td>Positive</td>\n",
       "    </tr>\n",
       "    <tr>\n",
       "      <th>4</th>\n",
       "      <td>Отлично, если не играть</td>\n",
       "      <td>0.925283</td>\n",
       "      <td>1</td>\n",
       "      <td>Positive</td>\n",
       "    </tr>\n",
       "    <tr>\n",
       "      <th>5</th>\n",
       "      <td>Графон мыльный, куча доната и микротранзакций</td>\n",
       "      <td>0.101197</td>\n",
       "      <td>0</td>\n",
       "      <td>Negative</td>\n",
       "    </tr>\n",
       "    <tr>\n",
       "      <th>6</th>\n",
       "      <td>Динамичная боевка, наполненный открытый мир</td>\n",
       "      <td>0.994680</td>\n",
       "      <td>1</td>\n",
       "      <td>Positive</td>\n",
       "    </tr>\n",
       "    <tr>\n",
       "      <th>7</th>\n",
       "      <td>Зависает в главном меню</td>\n",
       "      <td>0.207798</td>\n",
       "      <td>0</td>\n",
       "      <td>Negative</td>\n",
       "    </tr>\n",
       "    <tr>\n",
       "      <th>8</th>\n",
       "      <td>Мой компьютер не потянет эту игру</td>\n",
       "      <td>0.894053</td>\n",
       "      <td>1</td>\n",
       "      <td>Positive</td>\n",
       "    </tr>\n",
       "    <tr>\n",
       "      <th>9</th>\n",
       "      <td>Вернул деньги</td>\n",
       "      <td>0.258352</td>\n",
       "      <td>0</td>\n",
       "      <td>Negative</td>\n",
       "    </tr>\n",
       "    <tr>\n",
       "      <th>10</th>\n",
       "      <td>Кидаю деньги в монитор</td>\n",
       "      <td>0.681771</td>\n",
       "      <td>1</td>\n",
       "      <td>Positive</td>\n",
       "    </tr>\n",
       "    <tr>\n",
       "      <th>11</th>\n",
       "      <td>В игре много минусов и их перечисление займет ...</td>\n",
       "      <td>0.045930</td>\n",
       "      <td>0</td>\n",
       "      <td>Negative</td>\n",
       "    </tr>\n",
       "    <tr>\n",
       "      <th>12</th>\n",
       "      <td>Для меня серия Ghost Recon закончилась на Tom ...</td>\n",
       "      <td>0.415476</td>\n",
       "      <td>0</td>\n",
       "      <td>Negative</td>\n",
       "    </tr>\n",
       "    <tr>\n",
       "      <th>13</th>\n",
       "      <td>Не работают сервера</td>\n",
       "      <td>0.153678</td>\n",
       "      <td>0</td>\n",
       "      <td>Negative</td>\n",
       "    </tr>\n",
       "    <tr>\n",
       "      <th>14</th>\n",
       "      <td>1:54 меня этим и подкупила, что все смешали, м...</td>\n",
       "      <td>0.848872</td>\n",
       "      <td>1</td>\n",
       "      <td>Positive</td>\n",
       "    </tr>\n",
       "    <tr>\n",
       "      <th>15</th>\n",
       "      <td>Юбисофт опять обманули, ничего удивительного.</td>\n",
       "      <td>0.266738</td>\n",
       "      <td>0</td>\n",
       "      <td>Negative</td>\n",
       "    </tr>\n",
       "    <tr>\n",
       "      <th>16</th>\n",
       "      <td>Если честно не советую вам покупать, графика х...</td>\n",
       "      <td>0.356482</td>\n",
       "      <td>0</td>\n",
       "      <td>Negative</td>\n",
       "    </tr>\n",
       "    <tr>\n",
       "      <th>17</th>\n",
       "      <td>Я, уже 6 числа купил долгая игруля и норм игра...</td>\n",
       "      <td>0.889164</td>\n",
       "      <td>1</td>\n",
       "      <td>Positive</td>\n",
       "    </tr>\n",
       "    <tr>\n",
       "      <th>18</th>\n",
       "      <td>Игра понравилась. Тот случай, когда обзоры нев...</td>\n",
       "      <td>0.991546</td>\n",
       "      <td>1</td>\n",
       "      <td>Positive</td>\n",
       "    </tr>\n",
       "    <tr>\n",
       "      <th>19</th>\n",
       "      <td>Бета была многообещающей, но в финальную верси...</td>\n",
       "      <td>0.095586</td>\n",
       "      <td>0</td>\n",
       "      <td>Negative</td>\n",
       "    </tr>\n",
       "    <tr>\n",
       "      <th>20</th>\n",
       "      <td>Зря потратил время на эту игру</td>\n",
       "      <td>0.156293</td>\n",
       "      <td>0</td>\n",
       "      <td>Negative</td>\n",
       "    </tr>\n",
       "    <tr>\n",
       "      <th>21</th>\n",
       "      <td>Судя по трейлерам, крутой блокбастер, но геймп...</td>\n",
       "      <td>0.379887</td>\n",
       "      <td>0</td>\n",
       "      <td>Negative</td>\n",
       "    </tr>\n",
       "    <tr>\n",
       "      <th>22</th>\n",
       "      <td>Офигеть, какая игра</td>\n",
       "      <td>0.970906</td>\n",
       "      <td>1</td>\n",
       "      <td>Positive</td>\n",
       "    </tr>\n",
       "    <tr>\n",
       "      <th>23</th>\n",
       "      <td>Ну что это за игра</td>\n",
       "      <td>0.902225</td>\n",
       "      <td>1</td>\n",
       "      <td>Positive</td>\n",
       "    </tr>\n",
       "    <tr>\n",
       "      <th>24</th>\n",
       "      <td>Чудесная и великолепная графика, красивые зака...</td>\n",
       "      <td>0.309907</td>\n",
       "      <td>0</td>\n",
       "      <td>Negative</td>\n",
       "    </tr>\n",
       "    <tr>\n",
       "      <th>25</th>\n",
       "      <td>Видно в комментах люди уже не верят в игру. Он...</td>\n",
       "      <td>0.943102</td>\n",
       "      <td>1</td>\n",
       "      <td>Positive</td>\n",
       "    </tr>\n",
       "    <tr>\n",
       "      <th>26</th>\n",
       "      <td>Скорее бы уже вышла! После цусими не во что иг...</td>\n",
       "      <td>0.997520</td>\n",
       "      <td>1</td>\n",
       "      <td>Positive</td>\n",
       "    </tr>\n",
       "    <tr>\n",
       "      <th>27</th>\n",
       "      <td>Мда. Викинги никак не могут быть в списках асс...</td>\n",
       "      <td>0.194034</td>\n",
       "      <td>0</td>\n",
       "      <td>Negative</td>\n",
       "    </tr>\n",
       "  </tbody>\n",
       "</table>\n",
       "</div>"
      ],
      "text/plain": [
       "                                        sample_review     score  label  \\\n",
       "0     Удалил спустя пару часов. Это просто невыносимо  0.311001      0   \n",
       "1   Эта игра настоящий шедевр! Она взорвала мои мо...  0.995141      1   \n",
       "2                  Одни баги, игра постоянно вылетает  0.061664      0   \n",
       "3           Захватывающий сюжет и интересный геймплей  0.997844      1   \n",
       "4                             Отлично, если не играть  0.925283      1   \n",
       "5       Графон мыльный, куча доната и микротранзакций  0.101197      0   \n",
       "6         Динамичная боевка, наполненный открытый мир  0.994680      1   \n",
       "7                             Зависает в главном меню  0.207798      0   \n",
       "8                   Мой компьютер не потянет эту игру  0.894053      1   \n",
       "9                                       Вернул деньги  0.258352      0   \n",
       "10                             Кидаю деньги в монитор  0.681771      1   \n",
       "11  В игре много минусов и их перечисление займет ...  0.045930      0   \n",
       "12  Для меня серия Ghost Recon закончилась на Tom ...  0.415476      0   \n",
       "13                                Не работают сервера  0.153678      0   \n",
       "14  1:54 меня этим и подкупила, что все смешали, м...  0.848872      1   \n",
       "15      Юбисофт опять обманули, ничего удивительного.  0.266738      0   \n",
       "16  Если честно не советую вам покупать, графика х...  0.356482      0   \n",
       "17  Я, уже 6 числа купил долгая игруля и норм игра...  0.889164      1   \n",
       "18  Игра понравилась. Тот случай, когда обзоры нев...  0.991546      1   \n",
       "19  Бета была многообещающей, но в финальную верси...  0.095586      0   \n",
       "20                     Зря потратил время на эту игру  0.156293      0   \n",
       "21  Судя по трейлерам, крутой блокбастер, но геймп...  0.379887      0   \n",
       "22                                Офигеть, какая игра  0.970906      1   \n",
       "23                                 Ну что это за игра  0.902225      1   \n",
       "24  Чудесная и великолепная графика, красивые зака...  0.309907      0   \n",
       "25  Видно в комментах люди уже не верят в игру. Он...  0.943102      1   \n",
       "26  Скорее бы уже вышла! После цусими не во что иг...  0.997520      1   \n",
       "27  Мда. Викинги никак не могут быть в списках асс...  0.194034      0   \n",
       "\n",
       "   sentiment  \n",
       "0   Negative  \n",
       "1   Positive  \n",
       "2   Negative  \n",
       "3   Positive  \n",
       "4   Positive  \n",
       "5   Negative  \n",
       "6   Positive  \n",
       "7   Negative  \n",
       "8   Positive  \n",
       "9   Negative  \n",
       "10  Positive  \n",
       "11  Negative  \n",
       "12  Negative  \n",
       "13  Negative  \n",
       "14  Positive  \n",
       "15  Negative  \n",
       "16  Negative  \n",
       "17  Positive  \n",
       "18  Positive  \n",
       "19  Negative  \n",
       "20  Negative  \n",
       "21  Negative  \n",
       "22  Positive  \n",
       "23  Positive  \n",
       "24  Negative  \n",
       "25  Positive  \n",
       "26  Positive  \n",
       "27  Negative  "
      ]
     },
     "execution_count": 16,
     "metadata": {},
     "output_type": "execute_result"
    }
   ],
   "source": [
    "pd.DataFrame({'sample_review': sample_texts,\n",
    "              'score': score,\n",
    "              'label': label,\n",
    "              'sentiment': sentiment})"
   ]
  }
 ],
 "metadata": {
  "kernelspec": {
   "display_name": "Python GPU",
   "language": "python",
   "name": "gpu"
  },
  "language_info": {
   "codemirror_mode": {
    "name": "ipython",
    "version": 3
   },
   "file_extension": ".py",
   "mimetype": "text/x-python",
   "name": "python",
   "nbconvert_exporter": "python",
   "pygments_lexer": "ipython3",
   "version": "3.8.2"
  }
 },
 "nbformat": 4,
 "nbformat_minor": 4
}
